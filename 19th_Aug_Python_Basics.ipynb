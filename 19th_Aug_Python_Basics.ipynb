{
 "cells": [
  {
   "cell_type": "markdown",
   "id": "aa043e9a-59bf-4e4e-a2af-cae5cd97d44a",
   "metadata": {},
   "source": [
    "## TOPIC: Python Basics Variable"
   ]
  },
  {
   "cell_type": "markdown",
   "id": "887d8259-e172-49c1-94f7-1f359c130048",
   "metadata": {},
   "source": [
    "#### 1. Declare two variables, `x` and `y`, and assign them integer values. Swap the values of these variables without using any temporary variable."
   ]
  },
  {
   "cell_type": "code",
   "execution_count": 1,
   "id": "33f5ae3c-e114-4a75-a0a3-8013b807ae1d",
   "metadata": {},
   "outputs": [],
   "source": [
    "x = 10\n",
    "y = 20"
   ]
  },
  {
   "cell_type": "code",
   "execution_count": 2,
   "id": "70f4fd65-c981-4790-bb18-49efddd06a88",
   "metadata": {},
   "outputs": [],
   "source": [
    "x, y = y, x"
   ]
  },
  {
   "cell_type": "code",
   "execution_count": 5,
   "id": "72f0f4b8-c48f-4fd2-ad7e-956f1e454e09",
   "metadata": {},
   "outputs": [
    {
     "name": "stdout",
     "output_type": "stream",
     "text": [
      "x =  20\n",
      "y =  10\n"
     ]
    }
   ],
   "source": [
    "print('x = ', x)\n",
    "print('y = ', y)"
   ]
  },
  {
   "cell_type": "markdown",
   "id": "9c508a0f-d316-4aef-9af0-59b2eb546510",
   "metadata": {},
   "source": [
    "#### 2. Create a program that calculates the area of a rectangle. Take the length and width as inputs from the user and store them in variables. Calculate and display the area."
   ]
  },
  {
   "cell_type": "code",
   "execution_count": 7,
   "id": "b3b2adb5-f64a-4d32-becc-1b7f362e4e68",
   "metadata": {},
   "outputs": [
    {
     "name": "stdin",
     "output_type": "stream",
     "text": [
      "input the value of length:  2\n",
      "input the value of width:  3\n"
     ]
    },
    {
     "name": "stdout",
     "output_type": "stream",
     "text": [
      "Area of the rectangle:  6\n"
     ]
    }
   ],
   "source": [
    "x = int(input('input the value of length: '))\n",
    "y = int(input('input the value of width: '))\n",
    "area = x*y\n",
    "print ('Area of the rectangle: ', area)"
   ]
  },
  {
   "cell_type": "markdown",
   "id": "32e5f5d6-c0b4-4a76-9851-ecf6d725fb91",
   "metadata": {},
   "source": [
    "#### 3. Write a Python program that converts temperatures from Celsius to Fahrenheit. Take the temperature in Celsius as input, store it in a variable, convert it to Fahrenheit, and display the result."
   ]
  },
  {
   "cell_type": "code",
   "execution_count": 16,
   "id": "ff9c306b-2a05-42a9-a174-fd8153450ceb",
   "metadata": {},
   "outputs": [
    {
     "name": "stdin",
     "output_type": "stream",
     "text": [
      "Enter value of temperature in celsius:  23\n"
     ]
    },
    {
     "name": "stdout",
     "output_type": "stream",
     "text": [
      "23.00 Celsius is equivalent to: 73.40 Fahrenheit\n"
     ]
    }
   ],
   "source": [
    "c = float(input('Enter value of temperature in celsius: '))\n",
    "f = (c * 1.8) + 32\n",
    "print('%.2f Celsius is equivalent to: %.2f Fahrenheit'  %(c, f))"
   ]
  },
  {
   "cell_type": "markdown",
   "id": "10ebadd2-81a6-4d4a-9259-5b3f30a35590",
   "metadata": {},
   "source": [
    "### TOPIC: String Based Questions"
   ]
  },
  {
   "cell_type": "markdown",
   "id": "e031036c-c878-4768-b78a-daa92f724705",
   "metadata": {},
   "source": [
    "#### 1. Write a Python program that takes a string as input and prints the length of the string."
   ]
  },
  {
   "cell_type": "code",
   "execution_count": 22,
   "id": "f8779290-7c09-4a1e-a3b5-564b4969142e",
   "metadata": {},
   "outputs": [
    {
     "name": "stdin",
     "output_type": "stream",
     "text": [
      "Enter a string:  ajdfk\n"
     ]
    },
    {
     "name": "stdout",
     "output_type": "stream",
     "text": [
      "length of the string is:  5\n"
     ]
    }
   ],
   "source": [
    "a = str(input('Enter a string: '))\n",
    "print('length of the string is: ', len(a))"
   ]
  },
  {
   "cell_type": "markdown",
   "id": "556d9925-0c88-466e-ae0d-274af53de0ce",
   "metadata": {},
   "source": [
    "#### 2. Create a program that takes a sentence from the user and counts the number of vowels (a, e, i, o, u) in the string."
   ]
  },
  {
   "cell_type": "code",
   "execution_count": 24,
   "id": "29103e1d-e872-4f9c-bf5c-de6ea9c56b32",
   "metadata": {},
   "outputs": [
    {
     "name": "stdin",
     "output_type": "stream",
     "text": [
      "Enter a sentence:  what is your name\n"
     ]
    },
    {
     "name": "stdout",
     "output_type": "stream",
     "text": [
      "No of vowels in the sentaence:  6\n"
     ]
    }
   ],
   "source": [
    "vowels = 'aeiou'\n",
    "string = input('Enter a sentence: ')\n",
    "no_of_vowels = len([char for char in string if char in vowels])\n",
    "print('No of vowels in the sentaence: ', no_of_vowels)"
   ]
  },
  {
   "cell_type": "markdown",
   "id": "e2e6b07e-a911-439f-b674-57f243f45b39",
   "metadata": {},
   "source": [
    "#### 3. Given a string, reverse the order of characters using string slicing and print the reversed string."
   ]
  },
  {
   "cell_type": "code",
   "execution_count": 26,
   "id": "fe3dc50b-2071-4f42-9815-90a95f29c4e6",
   "metadata": {},
   "outputs": [
    {
     "name": "stdout",
     "output_type": "stream",
     "text": [
      "rkfdshw\n"
     ]
    }
   ],
   "source": [
    "string = 'whsdfkr'\n",
    "reverse = string[::-1]\n",
    "print(reverse)"
   ]
  },
  {
   "cell_type": "markdown",
   "id": "50439136-cd2e-449c-b16c-3071f693d6d5",
   "metadata": {},
   "source": [
    "#### 4. Write a program that takes a string as input and checks if it is a palindrome (reads the same forwards and backwards)."
   ]
  },
  {
   "cell_type": "code",
   "execution_count": 31,
   "id": "1e7df5f0-f876-4227-8d1f-664e1f650f3f",
   "metadata": {},
   "outputs": [
    {
     "name": "stdin",
     "output_type": "stream",
     "text": [
      "Enter a sting:  sushma\n"
     ]
    },
    {
     "name": "stdout",
     "output_type": "stream",
     "text": [
      "string is not a palindrome\n"
     ]
    }
   ],
   "source": [
    "string = input('Enter a sting: ')\n",
    "rev = string[::-1]\n",
    "if string ==rev:\n",
    "    print('string is a palindrome')\n",
    "else:\n",
    "    print('string is not a palindrome')"
   ]
  },
  {
   "cell_type": "markdown",
   "id": "f7bd6f77-e1a3-4232-bfb1-6d95f34dc002",
   "metadata": {},
   "source": [
    "#### 5. Create a program that takes a string as input and removes all the spaces from it. Print the modified string without spaces."
   ]
  },
  {
   "cell_type": "code",
   "execution_count": 35,
   "id": "aab2e146-27a9-4e48-a47f-50fad643380e",
   "metadata": {},
   "outputs": [
    {
     "name": "stdin",
     "output_type": "stream",
     "text": [
      "Enter a string:  wdffhf feohe fefhoe\n"
     ]
    },
    {
     "name": "stdout",
     "output_type": "stream",
     "text": [
      "string after removing the spaces:  wdffhffeohefefhoe\n"
     ]
    }
   ],
   "source": [
    "string = input('Enter a string: ')\n",
    "str_sp = string.replace(' ','')\n",
    "print('string after removing the spaces: ', str_sp)"
   ]
  },
  {
   "cell_type": "code",
   "execution_count": null,
   "id": "d98a7983-2119-4906-90b5-ef45bbb072ce",
   "metadata": {},
   "outputs": [],
   "source": []
  }
 ],
 "metadata": {
  "kernelspec": {
   "display_name": "Python 3 (ipykernel)",
   "language": "python",
   "name": "python3"
  },
  "language_info": {
   "codemirror_mode": {
    "name": "ipython",
    "version": 3
   },
   "file_extension": ".py",
   "mimetype": "text/x-python",
   "name": "python",
   "nbconvert_exporter": "python",
   "pygments_lexer": "ipython3",
   "version": "3.10.8"
  }
 },
 "nbformat": 4,
 "nbformat_minor": 5
}
